{
 "cells": [
  {
   "cell_type": "code",
   "execution_count": 1,
   "metadata": {},
   "outputs": [],
   "source": [
    "import json"
   ]
  },
  {
   "cell_type": "code",
   "execution_count": 2,
   "metadata": {},
   "outputs": [],
   "source": [
    "with open(\"skills_data.json\", \"r\") as jsonfile:\n",
    "    data = json.loads(jsonfile.read())"
   ]
  },
  {
   "cell_type": "code",
   "execution_count": 3,
   "metadata": {},
   "outputs": [],
   "source": [
    "def find_related_skills(skill, dataset):\n",
    "    skill_neighbours = []\n",
    "    related = ['related_1','related_2','related_3','related_4','related_5','related_6','related_7','related_8','related_9','related_10']\n",
    "    for sk in dataset:\n",
    "        if sk['name'] == skill:\n",
    "            for skl in related:\n",
    "                skill_neighbours.append(sk[skl])\n",
    "        else:\n",
    "            for skl in related:\n",
    "                if sk[skl] == skill:\n",
    "                    skill_neighbours.append(sk['name'])\n",
    "    return skill_neighbours\n",
    "\n",
    "def similarity_score(r_skill, jd_skill,dataset):\n",
    "    s_score = 0\n",
    "    if r_skill == jd_skill:\n",
    "        s_score = 1\n",
    "    else:\n",
    "        skill_set = find_related_skills(r_skill, dataset)\n",
    "        if jd_skill in skill_set:\n",
    "            s_score = 0.6\n",
    "        else:\n",
    "            s_score = 0\n",
    "    return s_score\n",
    "        \n",
    "\n",
    "def skillscore(r_skills, jd_skills, priority, dataset):\n",
    "    skill_score = 0\n",
    "    for i in r_skills:\n",
    "        score = 0\n",
    "        for j in range(len(jd_skills)):\n",
    "            sc = similarity_score(i, jd_skills[j], dataset)\n",
    "            score += (sc * priority[j])\n",
    "        skill_score += score\n",
    "    return skill_score"
   ]
  },
  {
   "cell_type": "code",
   "execution_count": 5,
   "metadata": {},
   "outputs": [
    {
     "name": "stdout",
     "output_type": "stream",
     "text": [
      "11.2\n"
     ]
    }
   ],
   "source": [
    "resume = ['python', 'django', 'machine learning']\n",
    "jd = ['python', 'deeplearning']\n",
    "priority_skills = [7, 5]\n",
    "\n",
    "skl_scr = skillscore(resume, jd, priority_skills, data)\n",
    "print(skl_scr)"
   ]
  },
  {
   "cell_type": "code",
   "execution_count": null,
   "metadata": {},
   "outputs": [],
   "source": []
  }
 ],
 "metadata": {
  "kernelspec": {
   "display_name": "Python 3",
   "language": "python",
   "name": "python3"
  },
  "language_info": {
   "codemirror_mode": {
    "name": "ipython",
    "version": 3
   },
   "file_extension": ".py",
   "mimetype": "text/x-python",
   "name": "python",
   "nbconvert_exporter": "python",
   "pygments_lexer": "ipython3",
   "version": "3.6.4"
  }
 },
 "nbformat": 4,
 "nbformat_minor": 2
}
