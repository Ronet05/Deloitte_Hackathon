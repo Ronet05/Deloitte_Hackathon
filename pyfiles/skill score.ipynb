{
 "cells": [
  {
   "cell_type": "code",
   "execution_count": 1,
   "metadata": {},
   "outputs": [],
   "source": [
    "import json"
   ]
  },
  {
   "cell_type": "code",
   "execution_count": 2,
   "metadata": {},
   "outputs": [],
   "source": [
    "with open(\"skills_data.json\", \"r\") as jsonfile:\n",
    "    data = json.loads(jsonfile.read())"
   ]
  },
  {
   "cell_type": "code",
   "execution_count": 13,
   "metadata": {},
   "outputs": [],
   "source": [
    "def level2_skills(skill, dataset, level1_skl):\n",
    "    skills = []\n",
    "    related = ['related_1','related_2','related_3','related_4','related_5','related_6','related_7','related_8','related_9','related_10']\n",
    "    for i in dataset:\n",
    "        for skl in related:\n",
    "            if i[skl] == skill:\n",
    "                if i['name'] in level1_skl:\n",
    "                    continue\n",
    "                else:\n",
    "                    skills.append(i['name'])\n",
    "    for i in level1_skl:\n",
    "        for j in data:\n",
    "            if j['name'] == i:\n",
    "                for r in related:\n",
    "                    if j[r] in level1_skl:\n",
    "                        continue\n",
    "                    elif j[r] in skills:\n",
    "                        continue\n",
    "                    elif j[r] == skill:\n",
    "                        continue\n",
    "                    else:\n",
    "                        skills.append(j[r])   \n",
    "    return skills\n",
    "\n",
    "def level1_skills(jd_skill, dataset):\n",
    "    skills = []\n",
    "    related = ['related_1','related_2','related_3','related_4','related_5','related_6','related_7','related_8','related_9','related_10']\n",
    "    for i in dataset:\n",
    "        if i['name'] == jd_skill:\n",
    "            for j in related:\n",
    "                skills.append(i[j])\n",
    "    return skills\n",
    "\n",
    "def similarity_score_levels(r_skill, jd_skill,dataset):\n",
    "    s_score = 0\n",
    "    if r_skill == jd_skill:\n",
    "        s_score = 1\n",
    "    else:\n",
    "        l1_skills = level1_skills(jd_skill, dataset)\n",
    "        l2_skills = level2_skills(jd_skill, dataset, l1_skills)\n",
    "        if r_skill in l1_skills:\n",
    "            s_score = 0.7\n",
    "        elif r_skill in l2_skills:\n",
    "            s_score = 0.5\n",
    "        else:\n",
    "            s_score = 0\n",
    "    return s_score\n",
    "        \n",
    "\n",
    "def skillscore_update(r_skills, jd_skills, priority, dataset):\n",
    "    skill_score = 0\n",
    "    for i in r_skills:\n",
    "        score = 0\n",
    "        for j in range(len(jd_skills)):\n",
    "            sc = similarity_score_levels(i, jd_skills[j], dataset)\n",
    "            score += (sc * priority[j])\n",
    "        skill_score += score\n",
    "    return skill_score"
   ]
  },
  {
   "cell_type": "code",
   "execution_count": 14,
   "metadata": {},
   "outputs": [
    {
     "name": "stdout",
     "output_type": "stream",
     "text": [
      "24.9\n"
     ]
    }
   ],
   "source": [
    "resume = ['python', 'django', 'machine learning']\n",
    "jd = ['python', 'deep learning']\n",
    "priority_skills = [7, 5]\n",
    "\n",
    "skl_scr = skillscore_update(resume, jd, priority_skills, data)\n",
    "print(skl_scr)"
   ]
  },
  {
   "cell_type": "code",
   "execution_count": null,
   "metadata": {},
   "outputs": [],
   "source": []
  }
 ],
 "metadata": {
  "kernelspec": {
   "display_name": "Python 3",
   "language": "python",
   "name": "python3"
  },
  "language_info": {
   "codemirror_mode": {
    "name": "ipython",
    "version": 3
   },
   "file_extension": ".py",
   "mimetype": "text/x-python",
   "name": "python",
   "nbconvert_exporter": "python",
   "pygments_lexer": "ipython3",
   "version": "3.6.4"
  }
 },
 "nbformat": 4,
 "nbformat_minor": 2
}
