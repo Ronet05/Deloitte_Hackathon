{
 "cells": [
  {
   "cell_type": "code",
   "execution_count": 1,
   "metadata": {},
   "outputs": [],
   "source": [
    "import json\n",
    "from pprint import pprint"
   ]
  },
  {
   "cell_type": "code",
   "execution_count": 2,
   "metadata": {},
   "outputs": [],
   "source": [
    "with open(\"skills_data.json\",\"r\") as jsonfile:\n",
    "    data = json.loads(jsonfile.read())"
   ]
  },
  {
   "cell_type": "code",
   "execution_count": 16,
   "metadata": {},
   "outputs": [
    {
     "name": "stdout",
     "output_type": "stream",
     "text": [
      "level1:  ['sqlalchemy', 'twisted', 'flask', 'numpy', 'celery', 'matplotlib', 'scipy', 'pandas', 'nltk', 'django']\n",
      "level2:  ['algorithm analysis', 'ansi c', 'ansible', 'apache spark', 'apprentissage automatique', 'arch linux', 'arm assembly', 'bash', 'bash scripting', 'bazaar', 'bitcoin', 'boost', 'boost c', 'c11', 'candc', 'celery', 'clojure', 'cmake', 'common lisp', 'd3', 'd3js', 'data science', 'deep learning', 'distributed algorithms', 'django', 'emacs', 'emacs lisp', 'erlang', 'flask', 'functional programming', 'gerrit', 'gnu octave', 'gnuandlinux', 'gnuplot', 'golang', 'google app engine', 'gtk', 'haskell', 'hg', 'htmlandcss', 'ida pro', 'jython', 'linux development', 'linuxandunix', 'lisp', 'llvm', 'matplotlib', 'mercurial', 'mips assembly', 'ml', 'netlogo', 'nltk', 'numpy', 'objectoriented languages', 'ocaml', 'octave', 'odoo', 'open source development', 'openerp', 'openflow', 'openmpi', 'pandas', 'plone', 'programming', 'protocol buffers', 'pyqt', 'pyramid', 'qemu', 'r language', 'racket', 'raspberry pi', 'robot framework', 'ros', 'rust', 'salt', 'saltstack', 'scheme', 'scratch', 'shell', 'sml', 'software defined networking', 'tex', 'tinyos', 'tornado', 'version control', 'vim', 'web crawling', 'web scraping', 'web2py', 'wxwidgets', 'yacc', 'zeromq', 'zope', 'zsh', 'javascript', 'postgresql', 'git', 'mysql', 'linux', 'redis', 'mongodb', 'machine learning', 'c', 'r', 'rabbitmq', 'latex', 'scientific programming', 'matlab', 'natural language processing', 'java', 'sentiment analysis', 'computational linguistics', 'weka', 'text mining']\n",
      "celery\n",
      "django\n",
      "flask\n",
      "matplotlib\n",
      "nltk\n",
      "numpy\n",
      "pandas\n"
     ]
    }
   ],
   "source": [
    "level1 = []\n",
    "level2 = []\n",
    "skill = \"python\"\n",
    "related = ['related_1','related_2','related_3','related_4','related_5','related_6','related_7','related_8','related_9','related_10']\n",
    "for i in data:\n",
    "    if i['name'] == skill:\n",
    "        for j in related:\n",
    "            level1.append(i[j])\n",
    "    for skl in related:\n",
    "        if i[skl] == skill:\n",
    "            if not i['name'] in level1:\n",
    "                level2.append(i['name'])\n",
    "for i in level1:\n",
    "    for j in data:\n",
    "        if j['name'] == i:\n",
    "            for r in related:\n",
    "                if j[r] in level1:\n",
    "                    continue\n",
    "                elif j[r] in level2:\n",
    "                    continue\n",
    "                elif j[r] == skill:\n",
    "                    continue\n",
    "                else:\n",
    "                    level2.append(j[r])\n",
    "print(\"level1: \", level1)\n",
    "print(\"level2: \", level2)   \n",
    "\n",
    "for i in level2:\n",
    "    if i in level1:\n",
    "        print(i)\n",
    "    "
   ]
  },
  {
   "cell_type": "code",
   "execution_count": 7,
   "metadata": {},
   "outputs": [],
   "source": [
    "def find_more_skills(skill, dataset, close_skills):\n",
    "    skill_neighbours = []\n",
    "    related = ['related_1','related_2','related_3','related_4','related_5','related_6','related_7','related_8','related_9','related_10']\n",
    "    for sk in dataset:\n",
    "        for skl in related:\n",
    "            if sk[skl] == skill:\n",
    "                if not sk['name'] in close_skills:\n",
    "                    skill_neighbours.append(sk['name'])\n",
    "    return skill_neighbours\n",
    "\n",
    "def closest_skills(jd_skill, dataset):\n",
    "    skills = []\n",
    "    related = ['related_1','related_2','related_3','related_4','related_5','related_6','related_7','related_8','related_9','related_10']\n",
    "    for skill in dataset:\n",
    "        if skill['name'] == jd_skill:\n",
    "            for r in related:\n",
    "                skills.append(skill[r])\n",
    "    return skills\n",
    "\n",
    "def similarity_score(r_skill, jd_skill,dataset):\n",
    "    s_score = 0\n",
    "    if r_skill == jd_skill:\n",
    "        s_score = 1\n",
    "    else:\n",
    "        related_skills = closest_skills(jd_skill, dataset)\n",
    "        skill_set = find_more_skills(jd_skill, dataset, related_skills)\n",
    "        if r_skill in related_skills:\n",
    "            s_score = 0.7\n",
    "        elif r_skill in skill_set:\n",
    "            s_score = 0.5\n",
    "        else:\n",
    "            s_score = 0\n",
    "    return s_score\n",
    "        \n",
    "\n",
    "def skillscore(r_skills, jd_skills, priority, dataset):\n",
    "    skill_score = 0\n",
    "    for i in r_skills:\n",
    "        score = 0\n",
    "        for j in range(len(jd_skills)):\n",
    "            sc = similarity_score(i, jd_skills[j], dataset)\n",
    "            score += (sc * priority[j])\n",
    "        skill_score += score\n",
    "    return skill_score"
   ]
  },
  {
   "cell_type": "code",
   "execution_count": 8,
   "metadata": {},
   "outputs": [
    {
     "name": "stdout",
     "output_type": "stream",
     "text": [
      "11.899999999999999\n"
     ]
    }
   ],
   "source": [
    "resume = ['python', 'django', 'machine learning']\n",
    "jd = ['python', 'deeplearning']\n",
    "priority_skills = [7, 5]\n",
    "\n",
    "skl_scr = skillscore(resume, jd, priority_skills, data)\n",
    "print(skl_scr)"
   ]
  },
  {
   "cell_type": "code",
   "execution_count": null,
   "metadata": {},
   "outputs": [],
   "source": []
  }
 ],
 "metadata": {
  "kernelspec": {
   "display_name": "Python 3",
   "language": "python",
   "name": "python3"
  },
  "language_info": {
   "codemirror_mode": {
    "name": "ipython",
    "version": 3
   },
   "file_extension": ".py",
   "mimetype": "text/x-python",
   "name": "python",
   "nbconvert_exporter": "python",
   "pygments_lexer": "ipython3",
   "version": "3.6.4"
  }
 },
 "nbformat": 4,
 "nbformat_minor": 2
}
