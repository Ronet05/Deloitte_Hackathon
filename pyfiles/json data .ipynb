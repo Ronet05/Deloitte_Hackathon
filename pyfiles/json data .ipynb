{
 "cells": [
  {
   "cell_type": "code",
   "execution_count": 1,
   "metadata": {},
   "outputs": [],
   "source": [
    "from pprint import pprint"
   ]
  },
  {
   "cell_type": "code",
   "execution_count": 2,
   "metadata": {},
   "outputs": [
    {
     "name": "stdout",
     "output_type": "stream",
     "text": [
      "]\n"
     ]
    }
   ],
   "source": [
    "import json\n",
    "indi = \"\"\n",
    "with open(\"cleaned_related_skills.json\", \"r\") as jsonfile:\n",
    "    \n",
    "    for i in jsonfile:\n",
    "            \n",
    "        for c in i:\n",
    "            indi += c\n",
    "            if c == \"}\":\n",
    "                \n",
    "                indi += \",\"\n",
    "print(indi[-1])"
   ]
  },
  {
   "cell_type": "code",
   "execution_count": 3,
   "metadata": {},
   "outputs": [],
   "source": [
    "strarr = list(indi)\n",
    "strarr[-2] = \"]\"\n",
    "del(strarr[-1])\n",
    "skills_data = \"\".join(strarr)"
   ]
  },
  {
   "cell_type": "code",
   "execution_count": 4,
   "metadata": {},
   "outputs": [],
   "source": [
    "dataset = json.loads(skills_data)"
   ]
  },
  {
   "cell_type": "code",
   "execution_count": 11,
   "metadata": {},
   "outputs": [
    {
     "name": "stdout",
     "output_type": "stream",
     "text": [
      "[{'name': 'a certified', 'related_1': 'network certified', 'related_2': 'laptops', 'related_3': 'n certified', 'related_4': 'computer hardware', 'related_5': 'windows 7', 'related_6': 'comptia', 'related_7': 'troubleshooting', 'related_8': 'software installation', 'related_9': 'printers', 'related_10': 'xp'}, {'name': 'a certified it technician', 'related_1': 'n certified', 'related_2': 'network certified', 'related_3': 'comptia network certified', 'related_4': 'comptia a certification', 'related_5': 'a certified professional', 'related_6': 'mcdst', 'related_7': 'windows 7', 'related_8': 'computer hardware', 'related_9': 'computer repair', 'related_10': 'a certified'}, {'name': 'a certified professional', 'related_1': 'network certified', 'related_2': 'comptia network certified', 'related_3': 'n certified', 'related_4': 'microsoft certified professional', 'related_5': 'a certified it technician', 'related_6': 'troubleshooting', 'related_7': 'windows 7', 'related_8': 'active directory', 'related_9': 'computer hardware', 'related_10': 'windows server'}, {'name': 'a quick learner', 'related_1': 'product validation', 'related_2': 'great communication skills', 'related_3': 'vista', 'related_4': 'good communication skill', 'related_5': 'people person', 'related_6': 'project resourcing', 'related_7': 'new product release', 'related_8': 'touch typing', 'related_9': 'excellent communicator', 'related_10': 'internet savvy'}, {'name': 'a1 assessor', 'related_1': 'ptlls', 'related_2': 'assessor training', 'related_3': 'nvqs', 'related_4': 'training delivery', 'related_5': 'training needs analysis', 'related_6': 'trainers', 'related_7': 'train the trainer', 'related_8': 'employer engagement', 'related_9': 'commercial awareness', 'related_10': 'fleet'}]\n"
     ]
    }
   ],
   "source": [
    "print(dataset[0:5])\n"
   ]
  },
  {
   "cell_type": "code",
   "execution_count": null,
   "metadata": {},
   "outputs": [],
   "source": []
  },
  {
   "cell_type": "code",
   "execution_count": 6,
   "metadata": {},
   "outputs": [
    {
     "name": "stdout",
     "output_type": "stream",
     "text": [
      "['algorithm analysis', 'ansi c', 'ansible', 'apache spark', 'apprentissage automatique', 'arch linux', 'arm assembly', 'bash', 'bash scripting', 'bazaar', 'bitcoin', 'boost', 'boost c', 'c11', 'candc', 'celery', 'clojure', 'cmake', 'common lisp', 'd3', 'd3js', 'data science', 'deep learning', 'distributed algorithms', 'django', 'emacs', 'emacs lisp', 'erlang', 'flask', 'functional programming', 'gerrit', 'gnu octave', 'gnuandlinux', 'gnuplot', 'golang', 'google app engine', 'gtk', 'haskell', 'hg', 'htmlandcss', 'ida pro', 'jython', 'linux development', 'linuxandunix', 'lisp', 'llvm', 'matplotlib', 'mercurial', 'mips assembly', 'ml', 'netlogo', 'nltk', 'numpy', 'objectoriented languages', 'ocaml', 'octave', 'odoo', 'open source development', 'openerp', 'openflow', 'openmpi', 'pandas', 'plone', 'programming', 'protocol buffers', 'pyqt', 'pyramid', 'sqlalchemy', 'twisted', 'flask', 'numpy', 'celery', 'matplotlib', 'scipy', 'pandas', 'nltk', 'django', 'qemu', 'r language', 'racket', 'raspberry pi', 'robot framework', 'ros', 'rust', 'salt', 'saltstack', 'scheme', 'scipy', 'scratch', 'shell', 'sml', 'software defined networking', 'sqlalchemy', 'tex', 'tinyos', 'tornado', 'twisted', 'version control', 'vim', 'web crawling', 'web scraping', 'web2py', 'wxwidgets', 'yacc', 'zeromq', 'zope', 'zsh']\n",
      "107\n"
     ]
    }
   ],
   "source": [
    "python_neighbours = []\n",
    "related = ['related_1','related_2','related_3','related_4','related_5','related_6','related_7','related_8','related_9','related_10']\n",
    "for i in dataset:\n",
    "    if i['name'] == 'python':\n",
    "        for j in related:\n",
    "            python_neighbours.append(i[j])\n",
    "    else:\n",
    "        for j in related:\n",
    "            if i[j] == 'python':\n",
    "                python_neighbours.append(i['name'])\n",
    "print(python_neighbours)\n",
    "print(len(python_neighbours))"
   ]
  },
  {
   "cell_type": "code",
   "execution_count": 12,
   "metadata": {},
   "outputs": [],
   "source": [
    "def find_related_skills(skill, dataset):\n",
    "    skill_neighbours = []\n",
    "    related = ['related_1','related_2','related_3','related_4','related_5','related_6','related_7','related_8','related_9','related_10']\n",
    "    for sk in dataset:\n",
    "        if sk['name'] == skill:\n",
    "            for skl in related:\n",
    "                skill_neighbours.append(sk[skl])\n",
    "        else:\n",
    "            for skl in related:\n",
    "                if sk[skl] == skill:\n",
    "                    skill_neighbours.append(sk['name'])\n",
    "    return skill_neighbours\n",
    "\n",
    "def similarity_score(r_skill, jd_skill,dataset):\n",
    "    s_score = 0\n",
    "    if r_skill == jd_skill:\n",
    "        s_score = 1\n",
    "    else:\n",
    "        skill_set = find_related_skills(r_skill, dataset)\n",
    "        if jd_skill in skill_set:\n",
    "            s_score = 0.6\n",
    "        else:\n",
    "            s_score = 0\n",
    "    return s_score\n",
    "        \n",
    "\n",
    "def skillscore(r_skills, jd_skills, dataset):\n",
    "    skill_score = 0\n",
    "    for i in r_skills:\n",
    "        score = 0\n",
    "        for j in jd_skills:\n",
    "            sc = similarity_score(i, j, dataset)\n",
    "            score += sc\n",
    "        skill_score += score\n",
    "    return skill_score\n",
    "\n"
   ]
  },
  {
   "cell_type": "code",
   "execution_count": 15,
   "metadata": {},
   "outputs": [],
   "source": [
    "resume = ['python', 'scratch']\n",
    "jd = ['python']"
   ]
  },
  {
   "cell_type": "code",
   "execution_count": 16,
   "metadata": {},
   "outputs": [
    {
     "name": "stdout",
     "output_type": "stream",
     "text": [
      "1.6\n"
     ]
    }
   ],
   "source": [
    "skl_scr = skillscore(resume, jd, dataset)\n",
    "print(skl_scr)"
   ]
  },
  {
   "cell_type": "code",
   "execution_count": null,
   "metadata": {},
   "outputs": [],
   "source": []
  }
 ],
 "metadata": {
  "kernelspec": {
   "display_name": "Python 3",
   "language": "python",
   "name": "python3"
  },
  "language_info": {
   "codemirror_mode": {
    "name": "ipython",
    "version": 3
   },
   "file_extension": ".py",
   "mimetype": "text/x-python",
   "name": "python",
   "nbconvert_exporter": "python",
   "pygments_lexer": "ipython3",
   "version": "3.6.4"
  }
 },
 "nbformat": 4,
 "nbformat_minor": 2
}
