{
 "cells": [
  {
   "cell_type": "code",
   "execution_count": 22,
   "metadata": {},
   "outputs": [],
   "source": [
    "import PyPDF2\n",
    "import re"
   ]
  },
  {
   "cell_type": "code",
   "execution_count": 23,
   "metadata": {},
   "outputs": [
    {
     "name": "stdout",
     "output_type": "stream",
     "text": [
      "2\n"
     ]
    }
   ],
   "source": [
    "pdfFile = open('Rishabh Dhoot Resume.pdf', 'rb')\n",
    "reader = PyPDF2.PdfFileReader(pdfFile)\n",
    "print(reader.numPages)"
   ]
  },
  {
   "cell_type": "code",
   "execution_count": 24,
   "metadata": {},
   "outputs": [
    {
     "name": "stdout",
     "output_type": "stream",
     "text": [
      "Rishabh Dhoot Email: dhootrishabh@gmail.com Contact: +91 9303130120 Location: Indore, India EDUCATION Vellore Institute of Technology, Chennai, India July 2016 May 2020 B. Tech, Computer Science Engineering GPA 8.72 Sri Chaitanya Techno School, Vizag, India July 2015 May 2016 Higher Secondary (CBSE Board) GPA 9.79 TECHNICAL SKILLS Programming: C, C++, C#, Python, HTML, CSS, JavaScript, jQuery, Bootstrap, PHP, AJAX, SQL Framework: CI, WordPress, Apache Spark Operating Systems: Windows, Ubuntu, Fedora Software: MS Office, Atom, FileZilla, Unity, Scratch Databases: MySQL, Firebase PROFESSIONAL EXPERIENCE FranTiger Business Consulting Pvt. Ltd., Bangalore, India April 17, 2018 May 05, 2018 Web development Intern Implemented modules for a web portal using HTML and utilized CSS for website designing Used PHP for server-side scripting along with MySQL coding for connecting to backend database Endevour IT Solutions, Indore, India June 04, 2018 July 07, 2018 PHP Intern Implemented modules for a sample school web portal using HTML, CSS, Bootstrap for the UI Used PHP for server-side scripting along with MySQL coding for connecting to backend database Used AJAX to add a dynamicity to certain modules Gained knowledge about working and implementation of CI Learned CMS by implementing sample web applications on WordPress ACADEMIC PROJECT Weather Prediction using ARIMA model September 2018 October 2018 Created an Apache Spark Standalone Cluster for achieving parallelization in tasks Implemented ARIMA model and Kalman filter for weather forecasting based on historic data Classified the weather condition based on the predicted values using XGBoost Classifier Made comparisons over the accuracy and implementations of ARIMA model and Kalman filter Supermarket Portal March 2018 April 2018 Developed and designed an online billing portal for the customers using basic HTML and CSS Created administration module for tracking store activities including customer activity and product balance Used MySQL database and PHP as the server-side scripting language to communicate with the client queries Utilized the local server like phpMyAdmin to host the website on local machine Stock and Price Manager December 2017 January 2018 Worked on management of stock and price of the products in a shop. Calculating Prices of the products along with discounts and GST. Used Firebase real-time database and JavaScript server-side scripting language to communicate with the user interface E-Commerce Website February 2017 April 2017 Developed and designed an E-commerce website as a course project Used MySQL database and PHP as the server-side scripting language to communicate with the client Utilized the local server like phpMyAdmin to host the website on local machine EXTRA CURRICULUM ACTIVITIES Participated in Web Designing Workshop involving basics of HTML, CSS, JavaScript and other web technologies Participated in Mozilla Hello Web Hackathon featuring tech-talks on AI, IoT and Machine learning followed by 24-hr hackathon where students from various universities build various teaching prototypes/modules WORK SAMPLES GitHub Profile: https://github.com/dhootrishabh\n"
     ]
    }
   ],
   "source": [
    "sentence=' '\n",
    "words=[]\n",
    "for i in range(reader.numPages):\n",
    "    text = reader.getPage(i)\n",
    "    pageText = text.extractText()\n",
    "    #print(pageText)\n",
    "    \n",
    "    \n",
    "    pageText=pageText.replace('\\n','')\n",
    "    for word in pageText.split():\n",
    "        if re.findall('\\s|\\xc2|\\xb7|[|]',word): continue\n",
    "        words.append(word)\n",
    "    \n",
    "sentence=sentence.join(words)\n",
    "print(sentence)"
   ]
  },
  {
   "cell_type": "code",
   "execution_count": 30,
   "metadata": {},
   "outputs": [],
   "source": [
    "name=words[0]+\" \"+words[1]\n",
    "#include file name, ids\n",
    "header=[\"Name\",\"Profile\"]\n",
    "details=[name, sentence]\n",
    "row=[header, details]"
   ]
  },
  {
   "cell_type": "code",
   "execution_count": 5,
   "metadata": {},
   "outputs": [],
   "source": [
    "pdfFile.close()"
   ]
  },
  {
   "cell_type": "code",
   "execution_count": 31,
   "metadata": {},
   "outputs": [],
   "source": [
    "import csv\n",
    "with open('cv_data.csv', 'w') as csvFile:\n",
    "    writer = csv.writer(csvFile)\n",
    "    writer.writerows(row)\n",
    "csvFile.close()"
   ]
  },
  {
   "cell_type": "code",
   "execution_count": null,
   "metadata": {},
   "outputs": [],
   "source": []
  }
 ],
 "metadata": {
  "kernelspec": {
   "display_name": "Python 2",
   "language": "python",
   "name": "python2"
  },
  "language_info": {
   "codemirror_mode": {
    "name": "ipython",
    "version": 2
   },
   "file_extension": ".py",
   "mimetype": "text/x-python",
   "name": "python",
   "nbconvert_exporter": "python",
   "pygments_lexer": "ipython2",
   "version": "2.7.15"
  }
 },
 "nbformat": 4,
 "nbformat_minor": 2
}
