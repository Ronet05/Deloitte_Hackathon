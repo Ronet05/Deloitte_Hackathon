{
 "cells": [
  {
   "cell_type": "code",
   "execution_count": 25,
   "metadata": {},
   "outputs": [],
   "source": [
    "from zipfile import ZipFile\n",
    "import PyPDF2\n",
    "import re\n",
    "import os\n",
    "import csv"
   ]
  },
  {
   "cell_type": "code",
   "execution_count": 26,
   "metadata": {},
   "outputs": [
    {
     "name": "stdout",
     "output_type": "stream",
     "text": [
      "[<ZipInfo filename='resumes/' external_attr=0x10>, <ZipInfo filename='resumes/Rishabh Dhoot Resume.pdf' compress_type=deflate external_attr=0x20 file_size=175821 compress_size=165956>, <ZipInfo filename='resumes/Ronet_Resume_Updated.pdf' compress_type=deflate external_attr=0x20 file_size=140196 compress_size=128304>]\n"
     ]
    }
   ],
   "source": [
    "zipname = \"resumes.zip\"\n",
    "with ZipFile(zipname,'r') as zip:\n",
    "    zip.extractall()\n",
    "    files = zip.infolist()\n",
    "print(files)"
   ]
  },
  {
   "cell_type": "code",
   "execution_count": 27,
   "metadata": {},
   "outputs": [
    {
     "name": "stdout",
     "output_type": "stream",
     "text": [
      "[<_io.BufferedReader name='resumes/Rishabh Dhoot Resume.pdf'>, <_io.BufferedReader name='resumes/Ronet_Resume_Updated.pdf'>]\n"
     ]
    }
   ],
   "source": [
    "filenames = []\n",
    "zipf = zipname[:zipname.find('.')]\n",
    "foldername = zipf + \"/\"\n",
    "#print(foldername)\n",
    "for i in range(0, len(files)):\n",
    "    if(files[i].filename == foldername):\n",
    "        continue\n",
    "    else:\n",
    "        if(files[i].filename.endswith(\".pdf\")):\n",
    "            read_file = files[i]\n",
    "            filenames.append(read_file.filename)\n",
    "        else:\n",
    "            continue\n",
    "\n",
    "#create an array of open files for pdf reader to directly access\n",
    "openfiles=[]\n",
    "for i in range(len(filenames)):\n",
    "    openfiles.append(open(filenames[i],'rb'))\n",
    "print(openfiles)"
   ]
  },
  {
   "cell_type": "code",
   "execution_count": 30,
   "metadata": {},
   "outputs": [
    {
     "name": "stdout",
     "output_type": "stream",
     "text": [
      "\n",
      "File: resumes/Rishabh Dhoot Resume.pdf \n",
      "\n",
      "Rishabh Dhoot Email: dhootrishabh@gmail.com Contact: +91 9303130120 Location: Indore, India EDUCATION Vellore Institute of Technology, Chennai, India July 2016 May 2020 B. Tech, Computer Science Engineering GPA 8.72 Sri Chaitanya Techno School, Vizag, India July 2015 May 2016 Higher Secondary (CBSE Board) GPA 9.79 TECHNICAL SKILLS Programming: C, C++, C#, Python, HTML, CSS, JavaScript, jQuery, Bootstrap, PHP, AJAX, SQL Framework: CI, WordPress, Apache Spark Operating Systems: Windows, Ubuntu, Fedora Software: MS Office, Atom, FileZilla, Unity, Scratch Databases: MySQL, Firebase PROFESSIONAL EXPERIENCE FranTiger Business Consulting Pvt. Ltd., Bangalore, India April 17, 2018 May 05, 2018 Web development Intern Implemented modules for a web portal using HTML and utilized CSS for website designing Used PHP for server-side scripting along with MySQL coding for connecting to backend database Endevour IT Solutions, Indore, India June 04, 2018 July 07, 2018 PHP Intern Implemented modules for a sample school web portal using HTML, CSS, Bootstrap for the UI Used PHP for server-side scripting along with MySQL coding for connecting to backend database Used AJAX to add a dynamicity to certain modules Gained knowledge about working and implementation of CI Learned CMS by implementing sample web applications on WordPress ACADEMIC PROJECT Weather Prediction using ARIMA model September 2018 October 2018 Created an Apache Spark Standalone Cluster for achieving parallelization in tasks Implemented ARIMA model and Kalman filter for weather forecasting based on historic data Classified the weather condition based on the predicted values using XGBoost Classifier Made comparisons over the accuracy and implementations of ARIMA model and Kalman filter Supermarket Portal March 2018 April 2018 Developed and designed an online billing portal for the customers using basic HTML and CSS Created administration module for tracking store activities including customer activity and product balance Used MySQL database and PHP as the server-side scripting language to communicate with the client queries Utilized the local server like phpMyAdmin to host the website on local machine Stock and Price Manager December 2017 January 2018 Worked on management of stock and price of the products in a shop. Calculating Prices of the products along with discounts and GST. Used Firebase real-time database and JavaScript server-side scripting language to communicate with the user interface E-Commerce Website February 2017 April 2017 Developed and designed an E-commerce website as a course project Used MySQL database and PHP as the server-side scripting language to communicate with the client Utilized the local server like phpMyAdmin to host the website on local machine EXTRA CURRICULUM ACTIVITIES Participated in Web Designing Workshop involving basics of HTML, CSS, JavaScript and other web technologies Participated in Mozilla Hello Web Hackathon featuring tech-talks on AI, IoT and Machine learning followed by 24-hr hackathon where students from various universities build various teaching prototypes/modules WORK SAMPLES GitHub Profile: https://github.com/dhootrishabh\n",
      "----------------\n",
      "\n",
      "File: resumes/Ronet_Resume_Updated.pdf \n",
      "\n",
      "#26, Dindli Enclave, Kadma-Sonari Road, Jamshedpur, Jharkhand - 831005 7550170322 ronet_swaminathan@ymail.com Age - 21 Objective A Challenging Internship in an industry related to Computer Science Engineering where I can learn and contribute to the developing technology for the modern era. Profile Dedicated and perfection-driven engineering student from VIT Chennai, seeking challenging and rewarding work in Computer Science Engineering, utilizing passion, knowledge and skills in coding and development. Education CBSE 10TH PCM 2014 DELHI PUBLIC SCHOOL CHANDIGARH Board: CBSE CGPA: 10 CBSE 12TH PCM 2016 DELHI PUBLIC SCHOOL CHANDIGARH Board: CBSE 93% B.TECH CSE 2020 VELLORE INSTITUTE OF TECHNOLOGY CHENNAI Semester 1 CGPA : 9.67 Semester 2 CGPA : 9.47 Semester 3 CGPA : 9.24 Semester 4 CGPA : 9.30 Semester 5 CGPA : 9.20 Skills & Abilities PROGRAMMING/SCRPITING LANGUAGES KNOWN Python R Tableau CSS / Bootstrap JavaScript PHP SQL C/C++ GitHub Machine Learning Data Mining Database Management Systems Data Structures Data VisualizationGITHUB PROFILE https://github.com/Ronet05/ LINKEDIN PROFILE https://www.linkedin.com/in/ronet-swaminathan-21a625138/ SOFT SKILLS Self-Motivated Strong Verbal Communication Team Leadership Analytical and Creative Experience SUMMER INTERNSHIP This internship was completed in the summer of 2018. Tata Steel is one of the largest steel manufacturing companies in the world. My job as an intern was to create an OPC (Open Platform Communication) client for digitizing PLC devices and make an HMI (Human Machine Interface). The software was made in C# and .NET. The client had to connect to an OPC server (OmniServer) and extract data from the device generated information. This was then manipulated and displayed to the administrator via the client. The admin can then further use the obtained data for device maintenance. WORK FROM HOME INTERNSHIP DOCTORI8 8 Internship in Web Development. Doctori8 is a healthcare service provider which enables transparent communication between doctors or hospitals with the patients using the management system. The management system uses a mobile app and a website as an interface. I have worked on both of them. Primarily used HTML, Bootstrap, JavaScript and PHP to develop the mobile view. Overall, I optimized the app and website (parts assigned to me) for a more fluid experience. I have also learned about the MVC framework and CodeIgniter from this internship. OWASP STUDENT CHAPTER 2017 ONWARDS Worked closely with OWASP Student Chapter for spreading awareness about cyber security and gaining experience in the field. Notable Projects Face Detection and Recognition in Python A customizable face detection and recognition model which can recognize faces once the model has run over known faces. The model uses a Convolutional Neural Network to identify faces. The know images with their names have to be placed in the folder. The model iterates over all the images in that folder, and can then detect faces, even if the faces are sideways or at an angle. This was followed by a research paper for the same. Image Denoising and Smoothing in CUDA This program is written in CUDA and C++, and can smoothen any input figure using the Mean filter. For preprocessing the data, the image is first convolved with a Sobel filter, then a sharpening filter and finally finished with a mean filter. Social Network Project with OOP in PHP A social networking website which has a lot of functionality and is programmed in HTML, CSS, Bootstrap, JavaScript, Ajax and PHP. The PHP written is using the OOP layout. One can use it to chat with followers, get live feed on their timeline whenever a follower posts something, get notifications, upload text and images in the timeline. This project is set up on localhost but with suitable modifications, can be broadcasted in the Internet. A 3D cube simulator which is written in C# and made in Unity 3D. It uses the basic algorithm to solve the Rubik's Cube. It was our data structure project. My responsibility was to create the GUI to implement the cube algorithm. The cube can rotate in 3D, and individual user moves can also be done. In addition, the number of moves and time taken is also displayed if the cube is set to be solved on its own. Mr. Know It All Chatbot As part of the ACM Hackathon, my team and I had created an AI Chatbot that could scrap data from New York Times and Wikipedia, summarize them and showcase the information in a presentable forsmat. The application was made on Python and Flask. Trainings MACHINE LEARNING UDEMY COURSERA PYTHON UDEMY NOV JAN FULL STACK DEVELOPMENT UDEMY 2 DAY IOT WORKSHOP INDIAN INSTITUTE OF TECHNOLOGY MADRAS 3- FACEBOOK DEVELOPER CIRCLE VELLORE INSTITUTE OF TECHNOLOGY CHENNAI 13th Hobbies Love playing the guitar and singing Love playing cricket and basketball Reading fiction novels\n",
      "----------------\n"
     ]
    }
   ],
   "source": [
    "index=0\n",
    "ID=1\n",
    "for f in openfiles:\n",
    "    print(\"\\nFile: {} \\n\".format(filenames[index]))\n",
    "    #pdfFile=f\n",
    "    reader = PyPDF2.PdfFileReader(f)\n",
    "    sentence=' '\n",
    "    words=[]\n",
    "    for i in range(reader.numPages):\n",
    "        text = reader.getPage(i)\n",
    "        pageText = text.extractText()\n",
    "        pageText=pageText.replace('\\n','')\n",
    "        for word in pageText.split():\n",
    "            if re.findall('\\s|\\xc2|\\xb7|[|]',word): continue\n",
    "            words.append(word)\n",
    "    \n",
    "    sentence=sentence.join(words)\n",
    "    print(sentence)\n",
    "    name=words[0]+\" \"+words[1]\n",
    "    row=[ID,filenames[index],name,sentence]\n",
    "    with open('cv_list.csv','a') as csvFile:\n",
    "        writer=csv.writer(csvFile)\n",
    "        \n",
    "        writer.writerow(row)\n",
    "    \n",
    "    print(\"----------------\")\n",
    "    index+=1\n",
    "    ID+=1\n",
    "    csvFile.close()   "
   ]
  },
  {
   "cell_type": "code",
   "execution_count": 26,
   "metadata": {},
   "outputs": [
    {
     "name": "stdout",
     "output_type": "stream",
     "text": [
      "\n"
     ]
    }
   ],
   "source": []
  },
  {
   "cell_type": "code",
   "execution_count": null,
   "metadata": {},
   "outputs": [],
   "source": []
  },
  {
   "cell_type": "code",
   "execution_count": null,
   "metadata": {},
   "outputs": [],
   "source": []
  }
 ],
 "metadata": {
  "kernelspec": {
   "display_name": "Python 3",
   "language": "python",
   "name": "python3"
  },
  "language_info": {
   "codemirror_mode": {
    "name": "ipython",
    "version": 3
   },
   "file_extension": ".py",
   "mimetype": "text/x-python",
   "name": "python",
   "nbconvert_exporter": "python",
   "pygments_lexer": "ipython3",
   "version": "3.7.0"
  }
 },
 "nbformat": 4,
 "nbformat_minor": 2
}
