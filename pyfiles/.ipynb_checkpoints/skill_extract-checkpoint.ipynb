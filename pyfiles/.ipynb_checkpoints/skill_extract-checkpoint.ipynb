{
 "cells": [
  {
   "cell_type": "code",
   "execution_count": 1,
   "metadata": {},
   "outputs": [],
   "source": [
    "from zipfile import ZipFile\n",
    "import PyPDF2\n",
    "import re\n",
    "import os\n",
    "import csv"
   ]
  },
  {
   "cell_type": "markdown",
   "metadata": {},
   "source": [
    "We will need to use flask to take the correct zipfile name. The \"files\" list here is basically a container for objects."
   ]
  },
  {
   "cell_type": "code",
   "execution_count": 2,
   "metadata": {},
   "outputs": [
    {
     "name": "stdout",
     "output_type": "stream",
     "text": [
      "[<ZipInfo filename='resumes/' external_attr=0x10>, <ZipInfo filename='resumes/Rishabh Dhoot Resume.pdf' compress_type=deflate external_attr=0x20 file_size=175821 compress_size=165956>, <ZipInfo filename='resumes/Ronet_Resume_Updated.pdf' compress_type=deflate external_attr=0x20 file_size=140196 compress_size=128304>]\n"
     ]
    }
   ],
   "source": [
    "zipname = \"resumes.zip\"\n",
    "with ZipFile(zipname,'r') as zip:\n",
    "    zip.extractall()\n",
    "    files = zip.infolist()\n",
    "print(files)"
   ]
  },
  {
   "cell_type": "markdown",
   "metadata": {},
   "source": [
    "openfiles is a list of already open pdf files, ready to be fed into the pdffilereader fn. "
   ]
  },
  {
   "cell_type": "code",
   "execution_count": 3,
   "metadata": {},
   "outputs": [
    {
     "name": "stdout",
     "output_type": "stream",
     "text": [
      "[<_io.BufferedReader name='resumes/Rishabh Dhoot Resume.pdf'>]\n"
     ]
    }
   ],
   "source": [
    "filenames = []\n",
    "zipf = zipname[:zipname.find('.')]\n",
    "foldername = zipf + \"/\"\n",
    "#print(foldername)\n",
    "for i in range(0, len(files)):\n",
    "    if(files[i].filename == foldername):\n",
    "        continue\n",
    "    else:\n",
    "        if(files[i].filename.endswith(\".pdf\")):\n",
    "            read_file = files[i]\n",
    "            filenames.append(read_file.filename)\n",
    "        else:\n",
    "            continue\n",
    "\n",
    "#create an array of open files for pdf reader to directly access\n",
    "openfiles=[]\n",
    "for i in range(len(filenames)-1):\n",
    "    openfiles.append(open(filenames[i],'rb'))\n",
    "print(openfiles)"
   ]
  },
  {
   "cell_type": "code",
   "execution_count": 4,
   "metadata": {},
   "outputs": [
    {
     "name": "stdout",
     "output_type": "stream",
     "text": [
      "\n",
      "File: resumes/Rishabh Dhoot Resume.pdf \n",
      "\n",
      "Rishabh Dhoot Email: dhootrishabh@gmail.com Contact: +91 9303130120 Location: Indore, India EDUCATION Vellore Institute of Technology, Chennai, India July 2016 May 2020 B. Tech, Computer Science Engineering GPA 8.72 Sri Chaitanya Techno School, Vizag, India July 2015 May 2016 Higher Secondary (CBSE Board) GPA 9.79 TECHNICAL SKILLS Programming: C, C++, C#, Python, HTML, CSS, JavaScript, jQuery, Bootstrap, PHP, AJAX, SQL Framework: CI, WordPress, Apache Spark Operating Systems: Windows, Ubuntu, Fedora Software: MS Office, Atom, FileZilla, Unity, Scratch Databases: MySQL, Firebase PROFESSIONAL EXPERIENCE FranTiger Business Consulting Pvt. Ltd., Bangalore, India April 17, 2018 May 05, 2018 Web development Intern Implemented modules for a web portal using HTML and utilized CSS for website designing Used PHP for server-side scripting along with MySQL coding for connecting to backend database Endevour IT Solutions, Indore, India June 04, 2018 July 07, 2018 PHP Intern Implemented modules for a sample school web portal using HTML, CSS, Bootstrap for the UI Used PHP for server-side scripting along with MySQL coding for connecting to backend database Used AJAX to add a dynamicity to certain modules Gained knowledge about working and implementation of CI Learned CMS by implementing sample web applications on WordPress ACADEMIC PROJECT Weather Prediction using ARIMA model September 2018 October 2018 Created an Apache Spark Standalone Cluster for achieving parallelization in tasks Implemented ARIMA model and Kalman filter for weather forecasting based on historic data Classified the weather condition based on the predicted values using XGBoost Classifier Made comparisons over the accuracy and implementations of ARIMA model and Kalman filter Supermarket Portal March 2018 April 2018 Developed and designed an online billing portal for the customers using basic HTML and CSS Created administration module for tracking store activities including customer activity and product balance Used MySQL database and PHP as the server-side scripting language to communicate with the client queries Utilized the local server like phpMyAdmin to host the website on local machine Stock and Price Manager December 2017 January 2018 Worked on management of stock and price of the products in a shop. Calculating Prices of the products along with discounts and GST. Used Firebase real-time database and JavaScript server-side scripting language to communicate with the user interface E-Commerce Website February 2017 April 2017 Developed and designed an E-commerce website as a course project Used MySQL database and PHP as the server-side scripting language to communicate with the client Utilized the local server like phpMyAdmin to host the website on local machine EXTRA CURRICULUM ACTIVITIES Participated in Web Designing Workshop involving basics of HTML, CSS, JavaScript and other web technologies Participated in Mozilla Hello Web Hackathon featuring tech-talks on AI, IoT and Machine learning followed by 24-hr hackathon where students from various universities build various teaching prototypes/modules WORK SAMPLES GitHub Profile: https://github.com/dhootrishabh\n",
      "----------------\n"
     ]
    }
   ],
   "source": [
    "index=0\n",
    "ID=1\n",
    "\n",
    "for f in openfiles:\n",
    "    print(\"\\nFile: {} \\n\".format(filenames[index]))\n",
    "    #pdfFile=f\n",
    "    reader = PyPDF2.PdfFileReader(f)\n",
    "    sentence=' '\n",
    "    words=[]\n",
    "    for i in range(reader.numPages):\n",
    "        text = reader.getPage(i)\n",
    "        pageText = text.extractText()\n",
    "        pageText=pageText.replace('\\n','')\n",
    "        for word in pageText.split():\n",
    "            if re.findall('\\s|\\xc2|\\xb7|[|]',word): continue\n",
    "            words.append(word)\n",
    "    \n",
    "    sentence=sentence.join(words)\n",
    "    print(sentence)\n",
    "    name=words[0]+\" \"+words[1]\n",
    "    row=[ID,filenames[index],name,sentence]\n",
    "    with open('cv_list.csv','a') as csvFile:\n",
    "        writer=csv.writer(csvFile)\n",
    "        \n",
    "        writer.writerow(row)\n",
    "    \n",
    "    print(\"----------------\")\n",
    "    index+=1\n",
    "    ID+=1\n",
    "    csvFile.close()   "
   ]
  },
  {
   "cell_type": "code",
   "execution_count": 5,
   "metadata": {},
   "outputs": [
    {
     "name": "stdout",
     "output_type": "stream",
     "text": [
      "['programming', 'c', 'c++', 'c#', 'python', 'html', 'css', 'javascript', 'jquery', 'bootstrap', 'php', 'ajax', 'sql', 'framework', 'ci', 'wordpress', 'apache', 'spark', 'operating', 'systems', 'windows', 'ubuntu', 'fedora', 'software', 'ms', 'office', 'atom', 'filezilla', 'unity', 'scratch', 'databases', 'mysql', 'firebase', 'professional']\n"
     ]
    }
   ],
   "source": [
    "import nltk, os, subprocess, code, glob, re, traceback, sys, inspect\n",
    "#from nltk import word_tokenize\n",
    "#from nltk import pos_tag\n",
    "\n",
    "sentence=sentence.lower()\n",
    "sentence = re.sub(r',|:|\\(|\\)', \"\", sentence)\n",
    "words=sentence.split(\" \")\n",
    "\n",
    "start_words=['skill','skills']\n",
    "stop_words=['accomplishments','accomplishment','experience','education','objective','qualifications','qualification','summary','awards',\n",
    "            'hobbies','passion','highlights','research','honors','interest','interests','background','history']\n",
    "skills=[]\n",
    "start=0\n",
    "for word in words:\n",
    "    if(start==0):\n",
    "        if(word in start_words):\n",
    "            start=1\n",
    "    else:\n",
    "        if(word in stop_words):\n",
    "            start=0\n",
    "        else:\n",
    "            skills.append(word)\n",
    "print(skills)\n",
    "    \n",
    "\n"
   ]
  },
  {
   "cell_type": "code",
   "execution_count": null,
   "metadata": {},
   "outputs": [],
   "source": []
  }
 ],
 "metadata": {
  "kernelspec": {
   "display_name": "Python 3",
   "language": "python",
   "name": "python3"
  },
  "language_info": {
   "codemirror_mode": {
    "name": "ipython",
    "version": 3
   },
   "file_extension": ".py",
   "mimetype": "text/x-python",
   "name": "python",
   "nbconvert_exporter": "python",
   "pygments_lexer": "ipython3",
   "version": "3.6.5"
  }
 },
 "nbformat": 4,
 "nbformat_minor": 2
}
