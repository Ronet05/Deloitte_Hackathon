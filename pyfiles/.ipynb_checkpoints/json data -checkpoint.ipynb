{
 "cells": [
  {
   "cell_type": "code",
   "execution_count": 1,
   "metadata": {},
   "outputs": [],
   "source": [
    "from pprint import pprint"
   ]
  },
  {
   "cell_type": "code",
   "execution_count": 2,
   "metadata": {},
   "outputs": [
    {
     "name": "stdout",
     "output_type": "stream",
     "text": [
      "]\n"
     ]
    }
   ],
   "source": [
    "import json\n",
    "indi = \"\"\n",
    "with open(\"cleaned_related_skills.json\", \"r\") as jsonfile:\n",
    "    \n",
    "    for i in jsonfile:\n",
    "            \n",
    "        for c in i:\n",
    "            indi += c\n",
    "            if c == \"}\":\n",
    "                \n",
    "                indi += \",\"\n",
    "print(indi[-1])"
   ]
  },
  {
   "cell_type": "code",
   "execution_count": 3,
   "metadata": {},
   "outputs": [],
   "source": [
    "strarr = list(indi)\n",
    "strarr[-2] = \"]\"\n",
    "del(strarr[-1])\n",
    "skills_data = \"\".join(strarr)"
   ]
  },
  {
   "cell_type": "code",
   "execution_count": 4,
   "metadata": {},
   "outputs": [],
   "source": [
    "dataset = json.loads(skills_data)"
   ]
  },
  {
   "cell_type": "code",
   "execution_count": 7,
   "metadata": {},
   "outputs": [
    {
     "data": {
      "text/plain": [
       "{'name': 'a certified',\n",
       " 'related_1': 'network certified',\n",
       " 'related_2': 'laptops',\n",
       " 'related_3': 'n certified',\n",
       " 'related_4': 'computer hardware',\n",
       " 'related_5': 'windows 7',\n",
       " 'related_6': 'comptia',\n",
       " 'related_7': 'troubleshooting',\n",
       " 'related_8': 'software installation',\n",
       " 'related_9': 'printers',\n",
       " 'related_10': 'xp'}"
      ]
     },
     "execution_count": 7,
     "metadata": {},
     "output_type": "execute_result"
    }
   ],
   "source": [
    "len(dataset)\n",
    "dataset[0]"
   ]
  },
  {
   "cell_type": "code",
   "execution_count": 13,
   "metadata": {},
   "outputs": [
    {
     "name": "stdout",
     "output_type": "stream",
     "text": [
      "['algorithm analysis', 'ansi c', 'ansible', 'apache spark', 'apprentissage automatique', 'arch linux', 'arm assembly', 'bash', 'bash scripting', 'bazaar', 'bitcoin', 'boost', 'boost c', 'c11', 'candc', 'celery', 'clojure', 'cmake', 'common lisp', 'd3', 'd3js', 'data science', 'deep learning', 'distributed algorithms', 'django', 'emacs', 'emacs lisp', 'erlang', 'flask', 'functional programming', 'gerrit', 'gnu octave', 'gnuandlinux', 'gnuplot', 'golang', 'google app engine', 'gtk', 'haskell', 'hg', 'htmlandcss', 'ida pro', 'jython', 'linux development', 'linuxandunix', 'lisp', 'llvm', 'matplotlib', 'mercurial', 'mips assembly', 'ml', 'netlogo', 'nltk', 'numpy', 'objectoriented languages', 'ocaml', 'octave', 'odoo', 'open source development', 'openerp', 'openflow', 'openmpi', 'pandas', 'plone', 'programming', 'protocol buffers', 'pyqt', 'pyramid', 'sqlalchemy', 'twisted', 'flask', 'numpy', 'celery', 'matplotlib', 'scipy', 'pandas', 'nltk', 'django', 'qemu', 'r language', 'racket', 'raspberry pi', 'robot framework', 'ros', 'rust', 'salt', 'saltstack', 'scheme', 'scipy', 'scratch', 'shell', 'sml', 'software defined networking', 'sqlalchemy', 'tex', 'tinyos', 'tornado', 'twisted', 'version control', 'vim', 'web crawling', 'web scraping', 'web2py', 'wxwidgets', 'yacc', 'zeromq', 'zope', 'zsh']\n",
      "107\n"
     ]
    }
   ],
   "source": [
    "python_neighbours = []\n",
    "related = ['related_1','related_2','related_3','related_4','related_5','related_6','related_7','related_8','related_9','related_10']\n",
    "for i in dataset:\n",
    "    if i['name'] == 'python':\n",
    "        for j in related:\n",
    "            python_neighbours.append(i[j])\n",
    "    else:\n",
    "        for j in related:\n",
    "            if i[j] == 'python':\n",
    "                python_neighbours.append(i['name'])\n",
    "print(python_neighbours)\n",
    "print(len(python_neighbours))"
   ]
  },
  {
   "cell_type": "code",
   "execution_count": null,
   "metadata": {},
   "outputs": [],
   "source": []
  }
 ],
 "metadata": {
  "kernelspec": {
   "display_name": "Python 3",
   "language": "python",
   "name": "python3"
  },
  "language_info": {
   "codemirror_mode": {
    "name": "ipython",
    "version": 3
   },
   "file_extension": ".py",
   "mimetype": "text/x-python",
   "name": "python",
   "nbconvert_exporter": "python",
   "pygments_lexer": "ipython3",
   "version": "3.6.5"
  }
 },
 "nbformat": 4,
 "nbformat_minor": 2
}
